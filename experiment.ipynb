{
 "cells": [
  {
   "cell_type": "markdown",
   "metadata": {},
   "source": [
    "# Power of Graph Products\n",
    "In this notebook we will explore the power of graph products. We will use the following graph products:\n",
    "* Cartesian product\n",
    "* Strong product\n",
    "* Tensor product\n",
    "\n",
    "We will explore the use of different embeddings and the effect of different graph products on the embeddings."
   ]
  },
  {
   "cell_type": "code",
   "execution_count": 1,
   "metadata": {},
   "outputs": [],
   "source": [
    "import networkx as nx\n",
    "import numpy as np\n",
    "import matplotlib.pyplot as plt\n",
    "from networkx.algorithms.graph_hashing import weisfeiler_lehman_graph_hash as wl\n",
    "\n",
    "from compare import compare_embeddings as compare\n",
    "from counting import embed_graph_cycles as cycles\n",
    "from product import get_all_products as products"
   ]
  },
  {
   "cell_type": "markdown",
   "metadata": {},
   "source": [
    "We will start by using all possible non-isomorphic graphs with a maximum of 7 nodes. This gives us a total of 1253 graphs."
   ]
  },
  {
   "cell_type": "code",
   "execution_count": 2,
   "metadata": {},
   "outputs": [],
   "source": [
    "gs = nx.graph_atlas_g()"
   ]
  },
  {
   "cell_type": "markdown",
   "metadata": {},
   "source": [
    "## Cycle counting\n",
    "We will use the cycle counting method by preparing embedding each graph using a vector, where each entry contains the number of cycles of a certain length (the length is the index of the entry). We will then use different graph products and observe, how the cycle counts change."
   ]
  },
  {
   "cell_type": "code",
   "execution_count": 3,
   "metadata": {},
   "outputs": [],
   "source": [
    "embedded_graphs = cycles(gs, 8)"
   ]
  },
  {
   "cell_type": "code",
   "execution_count": 4,
   "metadata": {},
   "outputs": [
    {
     "name": "stdout",
     "output_type": "stream",
     "text": [
      "Number of equal embeddings: 25979/784378\n"
     ]
    }
   ],
   "source": [
    "_, _, graphs_equal_indices = compare(embedded_graphs, index = True, verbose = True)"
   ]
  },
  {
   "cell_type": "code",
   "execution_count": 5,
   "metadata": {},
   "outputs": [],
   "source": [
    "k8 = nx.complete_graph(8)\n",
    "\n",
    "c_graphs, s_graphs, t_graphs = products(gs, k8)"
   ]
  },
  {
   "cell_type": "code",
   "execution_count": 6,
   "metadata": {},
   "outputs": [],
   "source": [
    "c_embedded_graphs = cycles(c_graphs, 57)\n",
    "s_embedded_graphs = cycles(s_graphs, 57)\n",
    "t_embedded_graphs = cycles(t_graphs, 57)"
   ]
  },
  {
   "cell_type": "code",
   "execution_count": 7,
   "metadata": {},
   "outputs": [
    {
     "name": "stdout",
     "output_type": "stream",
     "text": [
      "Number of equal embeddings: 1362/784378\n"
     ]
    }
   ],
   "source": [
    "_, _, graphs_c_equal_indices = compare(c_embedded_graphs, index = True, verbose = True)"
   ]
  },
  {
   "cell_type": "code",
   "execution_count": 8,
   "metadata": {},
   "outputs": [
    {
     "name": "stdout",
     "output_type": "stream",
     "text": [
      "Number of equal embeddings: 9759/784378\n"
     ]
    }
   ],
   "source": [
    "_, _, graphs_s_equal_indices = compare(s_embedded_graphs, index = True, verbose = True)"
   ]
  },
  {
   "cell_type": "code",
   "execution_count": 9,
   "metadata": {},
   "outputs": [
    {
     "name": "stdout",
     "output_type": "stream",
     "text": [
      "Number of equal embeddings: 339/784378\n"
     ]
    }
   ],
   "source": [
    "_, _, graphs_t_equal_indices = compare(t_embedded_graphs, index = True, verbose = True)"
   ]
  }
 ],
 "metadata": {
  "kernelspec": {
   "display_name": "graph-sandbox",
   "language": "python",
   "name": "python3"
  },
  "language_info": {
   "codemirror_mode": {
    "name": "ipython",
    "version": 3
   },
   "file_extension": ".py",
   "mimetype": "text/x-python",
   "name": "python",
   "nbconvert_exporter": "python",
   "pygments_lexer": "ipython3",
   "version": "3.12.0"
  }
 },
 "nbformat": 4,
 "nbformat_minor": 2
}
