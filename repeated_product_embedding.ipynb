{
 "cells": [
  {
   "cell_type": "markdown",
   "metadata": {},
   "source": [
    "# Repeated and Mixed Product Embeddings\n",
    "In this notebook we will build upon the 'simple_product_embeddings' notebook and explore the effects of repeatedly applying the graph product operation to graphs before embedding them with cycle counting. Further we will experiment with mixing effective combinations of graph products to further reduce collisions and improve the quality of the embeddings."
   ]
  },
  {
   "cell_type": "code",
   "execution_count": 1,
   "metadata": {},
   "outputs": [],
   "source": [
    "import networkx as nx\n",
    "import matplotlib.pyplot as plt\n",
    "import numpy as np\n",
    "import pandas as pd\n",
    "from tqdm import tqdm\n",
    "\n",
    "from compare import compare_embeddings as compare\n",
    "from cycle_counting import embed_graph_cycles as cycles\n",
    "\n",
    "from product import PRODUCTS"
   ]
  },
  {
   "cell_type": "markdown",
   "metadata": {},
   "source": [
    "As a first step, we will write code to facilitate easy repeated application of different graph products."
   ]
  },
  {
   "cell_type": "code",
   "execution_count": 2,
   "metadata": {},
   "outputs": [],
   "source": [
    "def apply_products_embed(G, products, factors, size):\n",
    "    \"\"\"\n",
    "    Apply several products with factor graphs to a given graph. The resulting\n",
    "    graph is embedded into a cycle graph of the given size.\n",
    "\n",
    "    Parameters\n",
    "    ----------\n",
    "    G : networkx.Graph, list of networkx.Graph\n",
    "        A NetworkX graph.\n",
    "    products : list of functions (G, factor_graph) -> G\n",
    "        A list of functions that take a graph and a factor graph and return a\n",
    "        graph.\n",
    "    factors : list of networkx.Graph, networkx.Graph\n",
    "        Factors to be used for the products. Either a list of graphs with the\n",
    "        same length as `products` or a single graph that is used for all products.\n",
    "    size : int\n",
    "        The size of the resulting cycle graph embedding.\n",
    "\n",
    "    Returns\n",
    "    -------\n",
    "    embedding : np.ndarray\n",
    "        The embedding of the resulting graph into a cycle graph of the given\n",
    "        size.\n",
    "    \"\"\"\n",
    "    if isinstance(G, list):\n",
    "        return [apply_products_embed(g, products, factors, size) for g in G]\n",
    "\n",
    "    if isinstance(factors, nx.Graph):\n",
    "        factors = [factors] * len(products)\n",
    "    elif len(factors) != len(products):\n",
    "        raise ValueError(\"Number of factors does not match number of products.\")\n",
    "\n",
    "    for product, factor in zip(products, factors):\n",
    "        G = product(G, factor)\n",
    "\n",
    "    return cycles(G, size)\n",
    "\n",
    "def evaluate_products(products_df):\n",
    "    \"\"\"\n",
    "    Evaluate the results of a product experiment, by comparing the resulting\n",
    "    graph embeddings. \n",
    "\n",
    "    Parameters\n",
    "    ----------\n",
    "    products_df : pandas.DataFrame\n",
    "        A dataframe with the results of the product experiment. The columns\n",
    "        contain the different products and the index contains the factor graphs\n",
    "        used for the products. Each cell contains a list of graph embeddings.\n",
    "\n",
    "    Returns\n",
    "    -------\n",
    "    results : pandas.DataFrame\n",
    "        A dataframe with the results of the evaluation.\n",
    "    \"\"\"\n",
    "    print(\"Comparing embeddings...\")\n",
    "    results = products_df.map(lambda x: compare(x))\n",
    "    return results"
   ]
  },
  {
   "cell_type": "markdown",
   "metadata": {},
   "source": [
    "To allow a comparison with the results of the 'simple_product_embeddings' notebook, we will use the same dataset, the graph atlas."
   ]
  },
  {
   "cell_type": "code",
   "execution_count": 3,
   "metadata": {},
   "outputs": [
    {
     "data": {
      "text/plain": [
       "995"
      ]
     },
     "execution_count": 3,
     "metadata": {},
     "output_type": "execute_result"
    }
   ],
   "source": [
    "Gs = [G for G in nx.graph_atlas_g() if not nx.is_empty(G) and nx.is_connected(G)]\n",
    "len(Gs)"
   ]
  },
  {
   "cell_type": "markdown",
   "metadata": {},
   "source": [
    "For the evaluation of the possible positive effect of repeated graph products we will focus on the Strong, Tensor and Modular products. For these products we will examin:\n",
    "- Repeated application of the same product with same factor graphs\n",
    "- Repeated application of the same product with factor graphs of increasing size\n",
    "- Mixed application of different products with factor graphs found effective in the previous experiments "
   ]
  },
  {
   "cell_type": "code",
   "execution_count": 4,
   "metadata": {},
   "outputs": [],
   "source": [
    "products = {k: v for k, v in PRODUCTS.items() if k in [\"Strong\", \"Tensor\", \"Modular\"]}"
   ]
  },
  {
   "cell_type": "markdown",
   "metadata": {},
   "source": [
    "## Repeated Application"
   ]
  },
  {
   "cell_type": "code",
   "execution_count": 5,
   "metadata": {},
   "outputs": [
    {
     "data": {
      "text/plain": [
       "{'K3': <networkx.classes.graph.Graph at 0x7f9aba647cd0>,\n",
       " 'K5': <networkx.classes.graph.Graph at 0x7f9aba62ef10>,\n",
       " 'P3': <networkx.classes.graph.Graph at 0x7f9aba67b8d0>,\n",
       " 'P5': <networkx.classes.graph.Graph at 0x7f9aba67bcd0>,\n",
       " 'S3': <networkx.classes.graph.Graph at 0x7f9ac02a9810>,\n",
       " 'S5': <networkx.classes.graph.Graph at 0x7f9aba67d350>}"
      ]
     },
     "execution_count": 5,
     "metadata": {},
     "output_type": "execute_result"
    }
   ],
   "source": [
    "use_subset = True\n",
    "\n",
    "factor_graphs = {\n",
    "    'K3': nx.complete_graph(3),\n",
    "    'K5': nx.complete_graph(5),\n",
    "    'K7': nx.complete_graph(7),\n",
    "    'K9': nx.complete_graph(9),\n",
    "    'K11': nx.complete_graph(11),\n",
    "    'K13': nx.complete_graph(13),\n",
    "    'K15': nx.complete_graph(15),\n",
    "    'P3': nx.path_graph(3),\n",
    "    'P5': nx.path_graph(5),\n",
    "    'P7': nx.path_graph(7),\n",
    "    'P9': nx.path_graph(9),\n",
    "    'P11': nx.path_graph(11),\n",
    "    'P13': nx.path_graph(13),\n",
    "    'P15': nx.path_graph(15),\n",
    "    'S3': nx.star_graph(3),\n",
    "    'S5': nx.star_graph(5),\n",
    "    'S7': nx.star_graph(7),\n",
    "    'S9': nx.star_graph(9),\n",
    "    'S11': nx.star_graph(11),\n",
    "    'S13': nx.star_graph(13),\n",
    "    'S15': nx.star_graph(15),\n",
    "}\n",
    "\n",
    "if use_subset:\n",
    "    sizes = [3, 5]\n",
    "    factor_graphs = {k: v for k, v in factor_graphs.items() if int(k[1:]) in sizes}\n",
    "\n",
    "factor_graphs"
   ]
  },
  {
   "cell_type": "code",
   "execution_count": 6,
   "metadata": {},
   "outputs": [],
   "source": [
    "def results(depth):\n",
    "    graph_products = pd.DataFrame(index=factor_graphs.keys(), columns=products.keys())\n",
    "    graph_products.index.name = \"Factor Graph\"\n",
    "    graph_products.columns.name = \"Graph Product\"\n",
    "\n",
    "    # embed_size = 7 * max(#nodes in factor graph) * depth\n",
    "    max_factor_size = max(len(factor_graph) for factor_graph in factor_graphs.values())\n",
    "    embed_size = 7 * (max_factor_size ** depth)\n",
    "\n",
    "    progress = tqdm(total=len(factor_graphs) * len(products))\n",
    "    for factor_name, factor_graph in factor_graphs.items():\n",
    "        for graph_name, product in products.items():\n",
    "            product_pipeline = [product] * depth\n",
    "            graph_products.loc[factor_name, graph_name] = apply_products_embed(Gs, product_pipeline, factor_graph, embed_size)\n",
    "            progress.update(1)\n",
    "    progress.close()\n",
    "    return graph_products"
   ]
  },
  {
   "cell_type": "markdown",
   "metadata": {},
   "source": [
    "### Embeddings & Comparisons"
   ]
  },
  {
   "cell_type": "code",
   "execution_count": 7,
   "metadata": {},
   "outputs": [
    {
     "name": "stderr",
     "output_type": "stream",
     "text": [
      "  0%|          | 0/18 [00:00<?, ?it/s]"
     ]
    },
    {
     "name": "stderr",
     "output_type": "stream",
     "text": [
      "100%|██████████| 18/18 [00:07<00:00,  2.47it/s]\n"
     ]
    },
    {
     "name": "stdout",
     "output_type": "stream",
     "text": [
      "Comparing embeddings...\n"
     ]
    },
    {
     "data": {
      "text/html": [
       "<div>\n",
       "<style scoped>\n",
       "    .dataframe tbody tr th:only-of-type {\n",
       "        vertical-align: middle;\n",
       "    }\n",
       "\n",
       "    .dataframe tbody tr th {\n",
       "        vertical-align: top;\n",
       "    }\n",
       "\n",
       "    .dataframe thead th {\n",
       "        text-align: right;\n",
       "    }\n",
       "</style>\n",
       "<table border=\"1\" class=\"dataframe\">\n",
       "  <thead>\n",
       "    <tr style=\"text-align: right;\">\n",
       "      <th>Graph Product</th>\n",
       "      <th>Strong</th>\n",
       "      <th>Tensor</th>\n",
       "      <th>Modular</th>\n",
       "    </tr>\n",
       "    <tr>\n",
       "      <th>Factor Graph</th>\n",
       "      <th></th>\n",
       "      <th></th>\n",
       "      <th></th>\n",
       "    </tr>\n",
       "  </thead>\n",
       "  <tbody>\n",
       "    <tr>\n",
       "      <th>K3</th>\n",
       "      <td>11795</td>\n",
       "      <td>255</td>\n",
       "      <td>283</td>\n",
       "    </tr>\n",
       "    <tr>\n",
       "      <th>K5</th>\n",
       "      <td>9086</td>\n",
       "      <td>108</td>\n",
       "      <td>123</td>\n",
       "    </tr>\n",
       "    <tr>\n",
       "      <th>P3</th>\n",
       "      <td>787</td>\n",
       "      <td>7311</td>\n",
       "      <td>36</td>\n",
       "    </tr>\n",
       "    <tr>\n",
       "      <th>P5</th>\n",
       "      <td>33</td>\n",
       "      <td>549</td>\n",
       "      <td>7</td>\n",
       "    </tr>\n",
       "    <tr>\n",
       "      <th>S3</th>\n",
       "      <td>1987</td>\n",
       "      <td>7263</td>\n",
       "      <td>72</td>\n",
       "    </tr>\n",
       "    <tr>\n",
       "      <th>S5</th>\n",
       "      <td>2570</td>\n",
       "      <td>7224</td>\n",
       "      <td>28</td>\n",
       "    </tr>\n",
       "  </tbody>\n",
       "</table>\n",
       "</div>"
      ],
      "text/plain": [
       "Graph Product  Strong  Tensor  Modular\n",
       "Factor Graph                          \n",
       "K3              11795     255      283\n",
       "K5               9086     108      123\n",
       "P3                787    7311       36\n",
       "P5                 33     549        7\n",
       "S3               1987    7263       72\n",
       "S5               2570    7224       28"
      ]
     },
     "execution_count": 7,
     "metadata": {},
     "output_type": "execute_result"
    }
   ],
   "source": [
    "d1 = results(1)\n",
    "evaluate_products(d1)"
   ]
  },
  {
   "cell_type": "code",
   "execution_count": 8,
   "metadata": {},
   "outputs": [
    {
     "name": "stderr",
     "output_type": "stream",
     "text": [
      "100%|██████████| 18/18 [04:23<00:00, 14.61s/it]\n"
     ]
    },
    {
     "name": "stdout",
     "output_type": "stream",
     "text": [
      "Comparing embeddings...\n"
     ]
    },
    {
     "data": {
      "text/html": [
       "<div>\n",
       "<style scoped>\n",
       "    .dataframe tbody tr th:only-of-type {\n",
       "        vertical-align: middle;\n",
       "    }\n",
       "\n",
       "    .dataframe tbody tr th {\n",
       "        vertical-align: top;\n",
       "    }\n",
       "\n",
       "    .dataframe thead th {\n",
       "        text-align: right;\n",
       "    }\n",
       "</style>\n",
       "<table border=\"1\" class=\"dataframe\">\n",
       "  <thead>\n",
       "    <tr style=\"text-align: right;\">\n",
       "      <th>Graph Product</th>\n",
       "      <th>Strong</th>\n",
       "      <th>Tensor</th>\n",
       "      <th>Modular</th>\n",
       "    </tr>\n",
       "    <tr>\n",
       "      <th>Factor Graph</th>\n",
       "      <th></th>\n",
       "      <th></th>\n",
       "      <th></th>\n",
       "    </tr>\n",
       "  </thead>\n",
       "  <tbody>\n",
       "    <tr>\n",
       "      <th>K3</th>\n",
       "      <td>10280</td>\n",
       "      <td>38</td>\n",
       "      <td>76</td>\n",
       "    </tr>\n",
       "    <tr>\n",
       "      <th>K5</th>\n",
       "      <td>10240</td>\n",
       "      <td>13</td>\n",
       "      <td>9</td>\n",
       "    </tr>\n",
       "    <tr>\n",
       "      <th>P3</th>\n",
       "      <td>140</td>\n",
       "      <td>4308</td>\n",
       "      <td>37</td>\n",
       "    </tr>\n",
       "    <tr>\n",
       "      <th>P5</th>\n",
       "      <td>0</td>\n",
       "      <td>0</td>\n",
       "      <td>26</td>\n",
       "    </tr>\n",
       "    <tr>\n",
       "      <th>S3</th>\n",
       "      <td>479</td>\n",
       "      <td>7483</td>\n",
       "      <td>11</td>\n",
       "    </tr>\n",
       "    <tr>\n",
       "      <th>S5</th>\n",
       "      <td>477</td>\n",
       "      <td>7488</td>\n",
       "      <td>17</td>\n",
       "    </tr>\n",
       "  </tbody>\n",
       "</table>\n",
       "</div>"
      ],
      "text/plain": [
       "Graph Product  Strong  Tensor  Modular\n",
       "Factor Graph                          \n",
       "K3              10280      38       76\n",
       "K5              10240      13        9\n",
       "P3                140    4308       37\n",
       "P5                  0       0       26\n",
       "S3                479    7483       11\n",
       "S5                477    7488       17"
      ]
     },
     "execution_count": 8,
     "metadata": {},
     "output_type": "execute_result"
    }
   ],
   "source": [
    "d2 = results(2)\n",
    "evaluate_products(d2)"
   ]
  },
  {
   "cell_type": "code",
   "execution_count": 9,
   "metadata": {},
   "outputs": [],
   "source": [
    "d3 = results(3)\n",
    "evaluate_products(d3)"
   ]
  },
  {
   "cell_type": "markdown",
   "metadata": {},
   "source": [
    "## Increasing Size"
   ]
  },
  {
   "cell_type": "code",
   "execution_count": 9,
   "metadata": {},
   "outputs": [],
   "source": [
    "factor_graphs = {\n",
    "    'Complete': nx.complete_graph,\n",
    "    'Path': nx.path_graph,\n",
    "    'Star': nx.star_graph,\n",
    "}"
   ]
  },
  {
   "cell_type": "code",
   "execution_count": 12,
   "metadata": {},
   "outputs": [],
   "source": [
    "def results(start, end, depth):\n",
    "    factor_graph_sizes = np.linspace(start, end, depth, dtype=int)\n",
    "    repr_sizes = str(tuple(factor_graph_sizes)).replace(\" \", \"\")\n",
    "\n",
    "    factor_combinations = [k + repr_sizes for k in factor_graphs.keys()]\n",
    "    graph_products = pd.DataFrame(index=factor_combinations, columns=products.keys())\n",
    "    graph_products.index.name = \"Factor Graph\"\n",
    "    graph_products.columns.name = \"Graph Product\"\n",
    "\n",
    "\n",
    "    # embed_size = 7 * mult(graph sizes + 1)\n",
    "    embed_size = 7 * np.prod(factor_graph_sizes + 1)\n",
    "\n",
    "    progress = tqdm(total=len(factor_graphs) * len(products))\n",
    "    for factor_name, factor_graph_type in zip(factor_combinations, factor_graphs.values()):\n",
    "        for graph_name, product in products.items():\n",
    "            product_pipeline = [product] * depth\n",
    "            factor_pipeline = [factor_graph_type(size) for size in factor_graph_sizes]\n",
    "            graph_products.loc[factor_name, graph_name] = apply_products_embed(Gs, product_pipeline, factor_pipeline, embed_size)  \n",
    "            progress.update(1)\n",
    "    progress.close()\n",
    "    return graph_products"
   ]
  },
  {
   "cell_type": "code",
   "execution_count": 13,
   "metadata": {},
   "outputs": [
    {
     "name": "stderr",
     "output_type": "stream",
     "text": [
      "  0%|          | 0/9 [00:00<?, ?it/s]"
     ]
    },
    {
     "name": "stderr",
     "output_type": "stream",
     "text": [
      "100%|██████████| 9/9 [01:03<00:00,  7.07s/it]\n"
     ]
    },
    {
     "name": "stdout",
     "output_type": "stream",
     "text": [
      "Comparing embeddings...\n"
     ]
    },
    {
     "data": {
      "text/html": [
       "<div>\n",
       "<style scoped>\n",
       "    .dataframe tbody tr th:only-of-type {\n",
       "        vertical-align: middle;\n",
       "    }\n",
       "\n",
       "    .dataframe tbody tr th {\n",
       "        vertical-align: top;\n",
       "    }\n",
       "\n",
       "    .dataframe thead th {\n",
       "        text-align: right;\n",
       "    }\n",
       "</style>\n",
       "<table border=\"1\" class=\"dataframe\">\n",
       "  <thead>\n",
       "    <tr style=\"text-align: right;\">\n",
       "      <th>Graph Product</th>\n",
       "      <th>Strong</th>\n",
       "      <th>Tensor</th>\n",
       "      <th>Modular</th>\n",
       "    </tr>\n",
       "    <tr>\n",
       "      <th>Factor Graph</th>\n",
       "      <th></th>\n",
       "      <th></th>\n",
       "      <th></th>\n",
       "    </tr>\n",
       "  </thead>\n",
       "  <tbody>\n",
       "    <tr>\n",
       "      <th>Complete(3,5)</th>\n",
       "      <td>10315</td>\n",
       "      <td>6</td>\n",
       "      <td>8</td>\n",
       "    </tr>\n",
       "    <tr>\n",
       "      <th>Path(3,5)</th>\n",
       "      <td>2</td>\n",
       "      <td>116</td>\n",
       "      <td>42</td>\n",
       "    </tr>\n",
       "    <tr>\n",
       "      <th>Star(3,5)</th>\n",
       "      <td>479</td>\n",
       "      <td>7483</td>\n",
       "      <td>11</td>\n",
       "    </tr>\n",
       "  </tbody>\n",
       "</table>\n",
       "</div>"
      ],
      "text/plain": [
       "Graph Product  Strong  Tensor  Modular\n",
       "Factor Graph                          \n",
       "Complete(3,5)   10315       6        8\n",
       "Path(3,5)           2     116       42\n",
       "Star(3,5)         479    7483       11"
      ]
     },
     "execution_count": 13,
     "metadata": {},
     "output_type": "execute_result"
    }
   ],
   "source": [
    "step2 = results(3, 5, 2)\n",
    "evaluate_products(step2)"
   ]
  },
  {
   "cell_type": "code",
   "execution_count": null,
   "metadata": {},
   "outputs": [],
   "source": [
    "step3 = results(3, 5, 3)\n",
    "evaluate_products(step3)"
   ]
  },
  {
   "cell_type": "markdown",
   "metadata": {},
   "source": [
    "## Mixed Application\n",
    "In the previous experiments we have seen some surprisingly good results with the Modular product, throughout all factor graphs. Also the match of the strong product with the Path factor graph was quite effective, as well as the Tensor product with the Complete and the Path factor graphs. To get disjoint matches, we will combine:\n",
    "- Modular product with Star factor graph\n",
    "- Strong product with Path factor graph\n",
    "- Tensor product with Complete factor graph"
   ]
  },
  {
   "cell_type": "code",
   "execution_count": 14,
   "metadata": {},
   "outputs": [],
   "source": [
    "factor_graphs = {\n",
    "    'Complete': nx.complete_graph,\n",
    "    'Path': nx.path_graph,\n",
    "    'Star': nx.star_graph,\n",
    "}"
   ]
  },
  {
   "cell_type": "code",
   "execution_count": 23,
   "metadata": {},
   "outputs": [],
   "source": [
    "def results(product_pipe, factor_pipe):\n",
    "    \n",
    "    embed_size = 7 * np.prod([len(factor_graph) for factor_graph in factor_pipe])\n",
    "\n",
    "    return pd.DataFrame({'Result': [apply_products_embed(Gs, product_pipe, factor_pipe, embed_size)]})"
   ]
  },
  {
   "cell_type": "code",
   "execution_count": 31,
   "metadata": {},
   "outputs": [],
   "source": [
    "ms = (products['Modular'], factor_graphs['Star'](5))\n",
    "sp = (products['Strong'], factor_graphs['Path'](5))\n",
    "tc = (products['Tensor'], factor_graphs['Complete'](5))\n",
    "\n",
    "def combine(*product_factor_pairs):\n",
    "    product_pipe = []\n",
    "    factor_pipe = []\n",
    "    for product, factor in product_factor_pairs:\n",
    "        product_pipe.append(product)\n",
    "        factor_pipe.append(factor)\n",
    "    return product_pipe, factor_pipe"
   ]
  },
  {
   "cell_type": "code",
   "execution_count": 25,
   "metadata": {},
   "outputs": [
    {
     "name": "stdout",
     "output_type": "stream",
     "text": [
      "Comparing embeddings...\n"
     ]
    },
    {
     "data": {
      "text/html": [
       "<div>\n",
       "<style scoped>\n",
       "    .dataframe tbody tr th:only-of-type {\n",
       "        vertical-align: middle;\n",
       "    }\n",
       "\n",
       "    .dataframe tbody tr th {\n",
       "        vertical-align: top;\n",
       "    }\n",
       "\n",
       "    .dataframe thead th {\n",
       "        text-align: right;\n",
       "    }\n",
       "</style>\n",
       "<table border=\"1\" class=\"dataframe\">\n",
       "  <thead>\n",
       "    <tr style=\"text-align: right;\">\n",
       "      <th></th>\n",
       "      <th>Result</th>\n",
       "    </tr>\n",
       "  </thead>\n",
       "  <tbody>\n",
       "    <tr>\n",
       "      <th>0</th>\n",
       "      <td>0</td>\n",
       "    </tr>\n",
       "  </tbody>\n",
       "</table>\n",
       "</div>"
      ],
      "text/plain": [
       "   Result\n",
       "0       0"
      ]
     },
     "execution_count": 25,
     "metadata": {},
     "output_type": "execute_result"
    }
   ],
   "source": [
    "p_pipe, f_pipe = combine(ms, sp)\n",
    "ms_sp = results(p_pipe, f_pipe)\n",
    "evaluate_products(ms_sp)"
   ]
  },
  {
   "cell_type": "code",
   "execution_count": 32,
   "metadata": {},
   "outputs": [
    {
     "name": "stdout",
     "output_type": "stream",
     "text": [
      "Comparing embeddings...\n"
     ]
    },
    {
     "data": {
      "text/html": [
       "<div>\n",
       "<style scoped>\n",
       "    .dataframe tbody tr th:only-of-type {\n",
       "        vertical-align: middle;\n",
       "    }\n",
       "\n",
       "    .dataframe tbody tr th {\n",
       "        vertical-align: top;\n",
       "    }\n",
       "\n",
       "    .dataframe thead th {\n",
       "        text-align: right;\n",
       "    }\n",
       "</style>\n",
       "<table border=\"1\" class=\"dataframe\">\n",
       "  <thead>\n",
       "    <tr style=\"text-align: right;\">\n",
       "      <th></th>\n",
       "      <th>Result</th>\n",
       "    </tr>\n",
       "  </thead>\n",
       "  <tbody>\n",
       "    <tr>\n",
       "      <th>0</th>\n",
       "      <td>22</td>\n",
       "    </tr>\n",
       "  </tbody>\n",
       "</table>\n",
       "</div>"
      ],
      "text/plain": [
       "   Result\n",
       "0      22"
      ]
     },
     "execution_count": 32,
     "metadata": {},
     "output_type": "execute_result"
    }
   ],
   "source": [
    "p_pipe, f_pipe = combine(sp, ms)\n",
    "sp_ms = results(p_pipe, f_pipe)\n",
    "evaluate_products(sp_ms)"
   ]
  },
  {
   "cell_type": "code",
   "execution_count": 33,
   "metadata": {},
   "outputs": [
    {
     "name": "stdout",
     "output_type": "stream",
     "text": [
      "Comparing embeddings...\n"
     ]
    },
    {
     "data": {
      "text/html": [
       "<div>\n",
       "<style scoped>\n",
       "    .dataframe tbody tr th:only-of-type {\n",
       "        vertical-align: middle;\n",
       "    }\n",
       "\n",
       "    .dataframe tbody tr th {\n",
       "        vertical-align: top;\n",
       "    }\n",
       "\n",
       "    .dataframe thead th {\n",
       "        text-align: right;\n",
       "    }\n",
       "</style>\n",
       "<table border=\"1\" class=\"dataframe\">\n",
       "  <thead>\n",
       "    <tr style=\"text-align: right;\">\n",
       "      <th></th>\n",
       "      <th>Result</th>\n",
       "    </tr>\n",
       "  </thead>\n",
       "  <tbody>\n",
       "    <tr>\n",
       "      <th>0</th>\n",
       "      <td>13</td>\n",
       "    </tr>\n",
       "  </tbody>\n",
       "</table>\n",
       "</div>"
      ],
      "text/plain": [
       "   Result\n",
       "0      13"
      ]
     },
     "execution_count": 33,
     "metadata": {},
     "output_type": "execute_result"
    }
   ],
   "source": [
    "pipe, f_pipe = combine(ms, tc)\n",
    "ms_tc = results(p_pipe, f_pipe)\n",
    "evaluate_products(ms_tc)"
   ]
  },
  {
   "cell_type": "code",
   "execution_count": 34,
   "metadata": {},
   "outputs": [
    {
     "name": "stdout",
     "output_type": "stream",
     "text": [
      "Comparing embeddings...\n"
     ]
    },
    {
     "data": {
      "text/html": [
       "<div>\n",
       "<style scoped>\n",
       "    .dataframe tbody tr th:only-of-type {\n",
       "        vertical-align: middle;\n",
       "    }\n",
       "\n",
       "    .dataframe tbody tr th {\n",
       "        vertical-align: top;\n",
       "    }\n",
       "\n",
       "    .dataframe thead th {\n",
       "        text-align: right;\n",
       "    }\n",
       "</style>\n",
       "<table border=\"1\" class=\"dataframe\">\n",
       "  <thead>\n",
       "    <tr style=\"text-align: right;\">\n",
       "      <th></th>\n",
       "      <th>Result</th>\n",
       "    </tr>\n",
       "  </thead>\n",
       "  <tbody>\n",
       "    <tr>\n",
       "      <th>0</th>\n",
       "      <td>4</td>\n",
       "    </tr>\n",
       "  </tbody>\n",
       "</table>\n",
       "</div>"
      ],
      "text/plain": [
       "   Result\n",
       "0       4"
      ]
     },
     "execution_count": 34,
     "metadata": {},
     "output_type": "execute_result"
    }
   ],
   "source": [
    "p_pipe, f_pipe = combine(tc, ms)\n",
    "tc_ms = results(p_pipe, f_pipe)\n",
    "evaluate_products(tc_ms)"
   ]
  },
  {
   "cell_type": "code",
   "execution_count": 35,
   "metadata": {},
   "outputs": [
    {
     "name": "stdout",
     "output_type": "stream",
     "text": [
      "Comparing embeddings...\n"
     ]
    },
    {
     "data": {
      "text/html": [
       "<div>\n",
       "<style scoped>\n",
       "    .dataframe tbody tr th:only-of-type {\n",
       "        vertical-align: middle;\n",
       "    }\n",
       "\n",
       "    .dataframe tbody tr th {\n",
       "        vertical-align: top;\n",
       "    }\n",
       "\n",
       "    .dataframe thead th {\n",
       "        text-align: right;\n",
       "    }\n",
       "</style>\n",
       "<table border=\"1\" class=\"dataframe\">\n",
       "  <thead>\n",
       "    <tr style=\"text-align: right;\">\n",
       "      <th></th>\n",
       "      <th>Result</th>\n",
       "    </tr>\n",
       "  </thead>\n",
       "  <tbody>\n",
       "    <tr>\n",
       "      <th>0</th>\n",
       "      <td>2</td>\n",
       "    </tr>\n",
       "  </tbody>\n",
       "</table>\n",
       "</div>"
      ],
      "text/plain": [
       "   Result\n",
       "0       2"
      ]
     },
     "execution_count": 35,
     "metadata": {},
     "output_type": "execute_result"
    }
   ],
   "source": [
    "p_pipe, f_pipe = combine(sp, tc)\n",
    "sp_tc = results(p_pipe, f_pipe)\n",
    "evaluate_products(sp_tc)"
   ]
  },
  {
   "cell_type": "code",
   "execution_count": 36,
   "metadata": {},
   "outputs": [
    {
     "name": "stdout",
     "output_type": "stream",
     "text": [
      "Comparing embeddings...\n"
     ]
    },
    {
     "data": {
      "text/html": [
       "<div>\n",
       "<style scoped>\n",
       "    .dataframe tbody tr th:only-of-type {\n",
       "        vertical-align: middle;\n",
       "    }\n",
       "\n",
       "    .dataframe tbody tr th {\n",
       "        vertical-align: top;\n",
       "    }\n",
       "\n",
       "    .dataframe thead th {\n",
       "        text-align: right;\n",
       "    }\n",
       "</style>\n",
       "<table border=\"1\" class=\"dataframe\">\n",
       "  <thead>\n",
       "    <tr style=\"text-align: right;\">\n",
       "      <th></th>\n",
       "      <th>Result</th>\n",
       "    </tr>\n",
       "  </thead>\n",
       "  <tbody>\n",
       "    <tr>\n",
       "      <th>0</th>\n",
       "      <td>6</td>\n",
       "    </tr>\n",
       "  </tbody>\n",
       "</table>\n",
       "</div>"
      ],
      "text/plain": [
       "   Result\n",
       "0       6"
      ]
     },
     "execution_count": 36,
     "metadata": {},
     "output_type": "execute_result"
    }
   ],
   "source": [
    "p_pipe, f_pipe = combine(tc, sp)\n",
    "tc_sp = results(p_pipe, f_pipe)\n",
    "evaluate_products(tc_sp)"
   ]
  },
  {
   "cell_type": "code",
   "execution_count": null,
   "metadata": {},
   "outputs": [],
   "source": [
    "p_pipe, f_pipe = combine(ms, sp, tc)\n",
    "ms_sp_tc = results(p_pipe, f_pipe)\n",
    "evaluate_products(ms_sp_tc)"
   ]
  }
 ],
 "metadata": {
  "kernelspec": {
   "display_name": "graph-gumbo",
   "language": "python",
   "name": "python3"
  },
  "language_info": {
   "codemirror_mode": {
    "name": "ipython",
    "version": 3
   },
   "file_extension": ".py",
   "mimetype": "text/x-python",
   "name": "python",
   "nbconvert_exporter": "python",
   "pygments_lexer": "ipython3",
   "version": "3.11.5"
  }
 },
 "nbformat": 4,
 "nbformat_minor": 2
}
