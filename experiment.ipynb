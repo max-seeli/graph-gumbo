{
 "cells": [
  {
   "cell_type": "markdown",
   "metadata": {},
   "source": [
    "# Power of Graph Products\n",
    "In this notebook we will explore the power of graph products. We will use the following graph products:\n",
    "* Cartesian product\n",
    "* Strong product\n",
    "* Tensor product\n",
    "\n",
    "We will explore the use of different embeddings and the effect of different graph products on the embeddings."
   ]
  },
  {
   "cell_type": "code",
   "execution_count": 1,
   "metadata": {},
   "outputs": [],
   "source": [
    "import networkx as nx\n",
    "import numpy as np\n",
    "import matplotlib.pyplot as plt\n",
    "import pandas as pd\n",
    "\n",
    "from compare import compare_embeddings as compare\n",
    "from counting import embed_graph_cycles as cycles\n",
    "from weisfeiler_lehman import embed_graph_wl as wl\n",
    "from product import get_all_products as products"
   ]
  },
  {
   "cell_type": "markdown",
   "metadata": {},
   "source": [
    "We will start by using all possible non-isomorphic graphs with a maximum of 7 nodes. This gives us a total of 1253 graphs."
   ]
  },
  {
   "cell_type": "code",
   "execution_count": 2,
   "metadata": {},
   "outputs": [],
   "source": [
    "gs = nx.graph_atlas_g()"
   ]
  },
  {
   "cell_type": "markdown",
   "metadata": {},
   "source": [
    "## Preprocessing\n",
    "We will start by assembeling all the graphs and graph products in a structured manner to make it easier to analyze different embedding methods."
   ]
  },
  {
   "cell_type": "markdown",
   "metadata": {},
   "source": [
    "### Factor graphs\n",
    "Using different factor graphs could change the embedding, and therefore the effect of the graph products. We will use the following factor graphs:\n",
    "* Complete graph\n",
    "* Path graph\n",
    "* Star graph\n",
    "\n",
    "Regarding the size of the factor graphs, we will use the following sizes:\n",
    "* 3 nodes\n",
    "* 5 nodes\n",
    "* 7 nodes"
   ]
  },
  {
   "cell_type": "code",
   "execution_count": 3,
   "metadata": {},
   "outputs": [],
   "source": [
    "factor_graphs = {\n",
    "    'K3': nx.complete_graph(3),\n",
    "    'K5': nx.complete_graph(5),\n",
    "    'K7': nx.complete_graph(7),\n",
    "    'P3': nx.path_graph(3),\n",
    "    'P5': nx.path_graph(5),\n",
    "    'P7': nx.path_graph(7),\n",
    "    # star graph with 3 nodes is equivalent to path graph with 3 nodes\n",
    "    'S5': nx.star_graph(5),\n",
    "    'S7': nx.star_graph(7),\n",
    "}"
   ]
  },
  {
   "cell_type": "markdown",
   "metadata": {},
   "source": [
    "### Graph products\n",
    "Now we will create the graph products of the factor graphs with all the graphs considered."
   ]
  },
  {
   "cell_type": "code",
   "execution_count": 4,
   "metadata": {},
   "outputs": [],
   "source": [
    "graph_products = pd.DataFrame(index=factor_graphs.keys(), columns=['Cartesian', 'Strong', 'Tensor'])\n",
    "graph_products.index.name = 'Factor Graph'\n",
    "graph_products.columns.name = 'Graph Product'\n",
    "\n",
    "for factor in factor_graphs:\n",
    "    FG = factor_graphs[factor]\n",
    "    cartesian, strong, tensor = products(gs, FG)\n",
    "    \n",
    "    graph_products.loc[factor, 'Cartesian'] = cartesian\n",
    "    graph_products.loc[factor, 'Strong'] = strong\n",
    "    graph_products.loc[factor, 'Tensor'] = tensor\n"
   ]
  },
  {
   "cell_type": "markdown",
   "metadata": {},
   "source": [
    "## Cycle counting\n",
    "We will use the cycle counting method by preparing embedding each graph using a vector, where each entry contains the number of cycles of a certain length (the length is the index of the entry). We will then use different graph products and observe, how the cycle counts change."
   ]
  },
  {
   "cell_type": "markdown",
   "metadata": {},
   "source": [
    "### Embeddings\n",
    "For all these graph products, as well as the initial graphs, we will create embeddings by counting cycles of different lengths. We will use an embedding size of 7*7=49, which is the maximum length of cycles in a graph product of two graphs with each 7 nodes."
   ]
  },
  {
   "cell_type": "code",
   "execution_count": 5,
   "metadata": {},
   "outputs": [],
   "source": [
    "cycle_embedded_graphs = cycles(gs, 49)\n",
    "cycle_embedded_products = graph_products.map(lambda x: cycles(x, 49))"
   ]
  },
  {
   "cell_type": "markdown",
   "metadata": {},
   "source": [
    "### Evaluation and Comparison\n",
    "In this section, we will evaluate, how many graphs, that are isomorphic to each other, are mapped to the same embedding. We will also compare the embeddings of the different graph products."
   ]
  },
  {
   "cell_type": "code",
   "execution_count": 6,
   "metadata": {},
   "outputs": [],
   "source": [
    "cycle_results = compare(cycle_embedded_graphs)\n",
    "cycle_product_results = cycle_embedded_products.map(lambda x: compare(x))"
   ]
  },
  {
   "cell_type": "code",
   "execution_count": 7,
   "metadata": {},
   "outputs": [
    {
     "data": {
      "text/html": [
       "<div>\n",
       "<style scoped>\n",
       "    .dataframe tbody tr th:only-of-type {\n",
       "        vertical-align: middle;\n",
       "    }\n",
       "\n",
       "    .dataframe tbody tr th {\n",
       "        vertical-align: top;\n",
       "    }\n",
       "\n",
       "    .dataframe thead th {\n",
       "        text-align: right;\n",
       "    }\n",
       "</style>\n",
       "<table border=\"1\" class=\"dataframe\">\n",
       "  <thead>\n",
       "    <tr style=\"text-align: right;\">\n",
       "      <th>Graph Product</th>\n",
       "      <th>Cartesian</th>\n",
       "      <th>Strong</th>\n",
       "      <th>Tensor</th>\n",
       "    </tr>\n",
       "    <tr>\n",
       "      <th>Factor Graph</th>\n",
       "      <th></th>\n",
       "      <th></th>\n",
       "      <th></th>\n",
       "    </tr>\n",
       "  </thead>\n",
       "  <tbody>\n",
       "    <tr>\n",
       "      <th>K3</th>\n",
       "      <td>1429</td>\n",
       "      <td>12783</td>\n",
       "      <td>533</td>\n",
       "    </tr>\n",
       "    <tr>\n",
       "      <th>K5</th>\n",
       "      <td>1363</td>\n",
       "      <td>9751</td>\n",
       "      <td>350</td>\n",
       "    </tr>\n",
       "    <tr>\n",
       "      <th>K7</th>\n",
       "      <td>1362</td>\n",
       "      <td>9748</td>\n",
       "      <td>340</td>\n",
       "    </tr>\n",
       "    <tr>\n",
       "      <th>P3</th>\n",
       "      <td>1841</td>\n",
       "      <td>1242</td>\n",
       "      <td>8778</td>\n",
       "    </tr>\n",
       "    <tr>\n",
       "      <th>P5</th>\n",
       "      <td>2011</td>\n",
       "      <td>229</td>\n",
       "      <td>1234</td>\n",
       "    </tr>\n",
       "    <tr>\n",
       "      <th>P7</th>\n",
       "      <td>1882</td>\n",
       "      <td>170</td>\n",
       "      <td>683</td>\n",
       "    </tr>\n",
       "    <tr>\n",
       "      <th>S5</th>\n",
       "      <td>521</td>\n",
       "      <td>3193</td>\n",
       "      <td>8686</td>\n",
       "    </tr>\n",
       "    <tr>\n",
       "      <th>S7</th>\n",
       "      <td>521</td>\n",
       "      <td>1924</td>\n",
       "      <td>8686</td>\n",
       "    </tr>\n",
       "  </tbody>\n",
       "</table>\n",
       "</div>"
      ],
      "text/plain": [
       "Graph Product  Cartesian  Strong  Tensor\n",
       "Factor Graph                            \n",
       "K3                  1429   12783     533\n",
       "K5                  1363    9751     350\n",
       "K7                  1362    9748     340\n",
       "P3                  1841    1242    8778\n",
       "P5                  2011     229    1234\n",
       "P7                  1882     170     683\n",
       "S5                   521    3193    8686\n",
       "S7                   521    1924    8686"
      ]
     },
     "execution_count": 7,
     "metadata": {},
     "output_type": "execute_result"
    }
   ],
   "source": [
    "cycle_product_results"
   ]
  },
  {
   "cell_type": "markdown",
   "metadata": {},
   "source": [
    "## Weisfeiler-Lehman\n",
    "Next will use the standard one dimensional Weisfeiler-Lehman isomorphisim test and perform the same evaluation and comparison as before."
   ]
  },
  {
   "cell_type": "markdown",
   "metadata": {},
   "source": [
    "### Embeddings\n",
    "We will use 10 iterations of the Weisfeiler-Lehman algorithm to create the embeddings."
   ]
  },
  {
   "cell_type": "code",
   "execution_count": 12,
   "metadata": {},
   "outputs": [],
   "source": [
    "wl_embedded_graphs = wl(gs, 10)\n",
    "wl_embedded_products = graph_products.map(lambda x: wl(x, 10))"
   ]
  },
  {
   "cell_type": "markdown",
   "metadata": {},
   "source": [
    "### Evaluation and Comparison\n",
    "In this section, we will evaluate the effectiveness of graph products to enhance the WL isomorphism test. "
   ]
  },
  {
   "cell_type": "code",
   "execution_count": 13,
   "metadata": {},
   "outputs": [],
   "source": [
    "wl_results = compare(wl_embedded_graphs)\n",
    "wl_product_results = wl_embedded_products.map(lambda x: compare(x))"
   ]
  },
  {
   "cell_type": "code",
   "execution_count": 15,
   "metadata": {},
   "outputs": [
    {
     "data": {
      "text/plain": [
       "26"
      ]
     },
     "execution_count": 15,
     "metadata": {},
     "output_type": "execute_result"
    }
   ],
   "source": [
    "wl_results"
   ]
  },
  {
   "cell_type": "code",
   "execution_count": 14,
   "metadata": {},
   "outputs": [
    {
     "data": {
      "text/html": [
       "<div>\n",
       "<style scoped>\n",
       "    .dataframe tbody tr th:only-of-type {\n",
       "        vertical-align: middle;\n",
       "    }\n",
       "\n",
       "    .dataframe tbody tr th {\n",
       "        vertical-align: top;\n",
       "    }\n",
       "\n",
       "    .dataframe thead th {\n",
       "        text-align: right;\n",
       "    }\n",
       "</style>\n",
       "<table border=\"1\" class=\"dataframe\">\n",
       "  <thead>\n",
       "    <tr style=\"text-align: right;\">\n",
       "      <th>Graph Product</th>\n",
       "      <th>Cartesian</th>\n",
       "      <th>Strong</th>\n",
       "      <th>Tensor</th>\n",
       "    </tr>\n",
       "    <tr>\n",
       "      <th>Factor Graph</th>\n",
       "      <th></th>\n",
       "      <th></th>\n",
       "      <th></th>\n",
       "    </tr>\n",
       "  </thead>\n",
       "  <tbody>\n",
       "    <tr>\n",
       "      <th>K3</th>\n",
       "      <td>26</td>\n",
       "      <td>26</td>\n",
       "      <td>26</td>\n",
       "    </tr>\n",
       "    <tr>\n",
       "      <th>K5</th>\n",
       "      <td>26</td>\n",
       "      <td>26</td>\n",
       "      <td>26</td>\n",
       "    </tr>\n",
       "    <tr>\n",
       "      <th>K7</th>\n",
       "      <td>26</td>\n",
       "      <td>26</td>\n",
       "      <td>26</td>\n",
       "    </tr>\n",
       "    <tr>\n",
       "      <th>P3</th>\n",
       "      <td>26</td>\n",
       "      <td>26</td>\n",
       "      <td>26</td>\n",
       "    </tr>\n",
       "    <tr>\n",
       "      <th>P5</th>\n",
       "      <td>26</td>\n",
       "      <td>26</td>\n",
       "      <td>26</td>\n",
       "    </tr>\n",
       "    <tr>\n",
       "      <th>P7</th>\n",
       "      <td>26</td>\n",
       "      <td>26</td>\n",
       "      <td>26</td>\n",
       "    </tr>\n",
       "    <tr>\n",
       "      <th>S5</th>\n",
       "      <td>26</td>\n",
       "      <td>26</td>\n",
       "      <td>26</td>\n",
       "    </tr>\n",
       "    <tr>\n",
       "      <th>S7</th>\n",
       "      <td>26</td>\n",
       "      <td>26</td>\n",
       "      <td>26</td>\n",
       "    </tr>\n",
       "  </tbody>\n",
       "</table>\n",
       "</div>"
      ],
      "text/plain": [
       "Graph Product  Cartesian  Strong  Tensor\n",
       "Factor Graph                            \n",
       "K3                    26      26      26\n",
       "K5                    26      26      26\n",
       "K7                    26      26      26\n",
       "P3                    26      26      26\n",
       "P5                    26      26      26\n",
       "P7                    26      26      26\n",
       "S5                    26      26      26\n",
       "S7                    26      26      26"
      ]
     },
     "execution_count": 14,
     "metadata": {},
     "output_type": "execute_result"
    }
   ],
   "source": [
    "wl_product_results"
   ]
  },
  {
   "cell_type": "markdown",
   "metadata": {},
   "source": [
    "### Conclusion and Discussion\n",
    "As we can see from the table above, the graph products showed no effect on enhancing the WL isomorphism test."
   ]
  }
 ],
 "metadata": {
  "kernelspec": {
   "display_name": "graph-sandbox",
   "language": "python",
   "name": "python3"
  },
  "language_info": {
   "codemirror_mode": {
    "name": "ipython",
    "version": 3
   },
   "file_extension": ".py",
   "mimetype": "text/x-python",
   "name": "python",
   "nbconvert_exporter": "python",
   "pygments_lexer": "ipython3",
   "version": "3.11.5"
  }
 },
 "nbformat": 4,
 "nbformat_minor": 2
}
